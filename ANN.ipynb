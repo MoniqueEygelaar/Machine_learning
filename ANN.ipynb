{
 "cells": [
  {
   "cell_type": "code",
   "execution_count": 25,
   "metadata": {},
   "outputs": [],
   "source": [
    "import numpy as np\n",
    "import pandas as pd\n",
    "import tensorflow as tf"
   ]
  },
  {
   "cell_type": "code",
   "execution_count": 26,
   "metadata": {},
   "outputs": [
    {
     "data": {
      "text/plain": [
       "'2.7.0'"
      ]
     },
     "execution_count": 26,
     "metadata": {},
     "output_type": "execute_result"
    }
   ],
   "source": [
    "tf.__version__"
   ]
  },
  {
   "cell_type": "markdown",
   "metadata": {},
   "source": [
    "### Load Dataset"
   ]
  },
  {
   "cell_type": "code",
   "execution_count": 29,
   "metadata": {},
   "outputs": [
    {
     "data": {
      "text/plain": [
       "RowNumber          0\n",
       "CustomerId         0\n",
       "Surname            0\n",
       "CreditScore        0\n",
       "Geography          0\n",
       "Gender             0\n",
       "Age                0\n",
       "Tenure             0\n",
       "Balance            0\n",
       "NumOfProducts      0\n",
       "HasCrCard          0\n",
       "IsActiveMember     0\n",
       "EstimatedSalary    0\n",
       "Exited             0\n",
       "dtype: int64"
      ]
     },
     "execution_count": 29,
     "metadata": {},
     "output_type": "execute_result"
    }
   ],
   "source": [
    "dataset = pd.read_csv('/home/dewald/Downloads/MachineLearning/MachineLearning/datasets/Churn_Modelling.csv')\n",
    "\n",
    "\n",
    "##check for missing data\n",
    "dataset.isnull().sum(axis=0)"
   ]
  },
  {
   "cell_type": "code",
   "execution_count": 30,
   "metadata": {},
   "outputs": [
    {
     "name": "stdout",
     "output_type": "stream",
     "text": [
      "[[619 'France' 'Female' ... 1 1 101348.88]\n",
      " [608 'Spain' 'Female' ... 0 1 112542.58]\n",
      " [502 'France' 'Female' ... 1 0 113931.57]\n",
      " ...\n",
      " [709 'France' 'Female' ... 0 1 42085.58]\n",
      " [772 'Germany' 'Male' ... 1 0 92888.52]\n",
      " [792 'France' 'Female' ... 1 0 38190.78]]\n",
      "[1 0 1 ... 1 1 0]\n"
     ]
    }
   ],
   "source": [
    "\n",
    "X = dataset.iloc[:,3:-1].values\n",
    "y = dataset.iloc[:,-1].values\n",
    "\n",
    "print(X)\n",
    "print(y)"
   ]
  },
  {
   "cell_type": "markdown",
   "metadata": {},
   "source": [
    "### Encode catagorical data"
   ]
  },
  {
   "cell_type": "code",
   "execution_count": 32,
   "metadata": {},
   "outputs": [
    {
     "name": "stdout",
     "output_type": "stream",
     "text": [
      "[[619 'France' 0 ... 1 1 101348.88]\n",
      " [608 'Spain' 0 ... 0 1 112542.58]\n",
      " [502 'France' 0 ... 1 0 113931.57]\n",
      " ...\n",
      " [709 'France' 0 ... 0 1 42085.58]\n",
      " [772 'Germany' 1 ... 1 0 92888.52]\n",
      " [792 'France' 0 ... 1 0 38190.78]]\n"
     ]
    }
   ],
   "source": [
    "## Label encoding\n",
    "\n",
    "from sklearn.preprocessing import LabelEncoder\n",
    "\n",
    "encoder = LabelEncoder()\n",
    "\n",
    "X[:,2] = encoder.fit_transform(X[:,2])\n",
    "\n",
    "print(X)\n"
   ]
  },
  {
   "cell_type": "code",
   "execution_count": 35,
   "metadata": {},
   "outputs": [
    {
     "name": "stdout",
     "output_type": "stream",
     "text": [
      "[[1.0 0.0 0.0 ... 1 1 101348.88]\n",
      " [0.0 0.0 1.0 ... 0 1 112542.58]\n",
      " [1.0 0.0 0.0 ... 1 0 113931.57]\n",
      " ...\n",
      " [1.0 0.0 0.0 ... 0 1 42085.58]\n",
      " [0.0 1.0 0.0 ... 1 0 92888.52]\n",
      " [1.0 0.0 0.0 ... 1 0 38190.78]]\n"
     ]
    }
   ],
   "source": [
    "## one hot encoding\n",
    "\n",
    "from sklearn.compose import ColumnTransformer\n",
    "\n",
    "from sklearn.preprocessing import OneHotEncoder\n",
    "\n",
    "ct = ColumnTransformer(transformers=[('encoder',OneHotEncoder(),[1])], remainder='passthrough')\n",
    "\n",
    "X = np.array(ct.fit_transform(X))\n",
    "\n",
    "print(X)"
   ]
  },
  {
   "cell_type": "markdown",
   "metadata": {},
   "source": [
    "### Split data "
   ]
  },
  {
   "cell_type": "code",
   "execution_count": 49,
   "metadata": {},
   "outputs": [],
   "source": [
    "from sklearn.model_selection import train_test_split\n",
    "X_train, X_test, y_train, y_test = train_test_split(X,y, test_size= 0.2 , random_state = 0)"
   ]
  },
  {
   "cell_type": "markdown",
   "metadata": {},
   "source": [
    "### Feature scaling "
   ]
  },
  {
   "cell_type": "code",
   "execution_count": 50,
   "metadata": {},
   "outputs": [],
   "source": [
    "from sklearn.preprocessing import StandardScaler\n",
    "sc = StandardScaler()\n",
    "X_train = sc.fit_transform(X_train)\n",
    "X_test = sc.transform(X_test)\n",
    "\n",
    "### only transform to test to avoid information leakage-\n",
    "### never call fit on the test data"
   ]
  },
  {
   "cell_type": "markdown",
   "metadata": {},
   "source": [
    "### Build ANN"
   ]
  },
  {
   "cell_type": "code",
   "execution_count": 51,
   "metadata": {},
   "outputs": [],
   "source": [
    "ann = tf.keras.models.Sequential()\n",
    "\n",
    "## adding layers\n",
    "\n",
    "## First hidden layer\n",
    "##....Dense({how many hidden layers})... relu= rectified linear activation function \n",
    "ann.add(tf.keras.layers.Dense(units=6, activation='relu'))\n",
    "\n",
    "## second hidden layer\n",
    "ann.add(tf.keras.layers.Dense(units=6, activation='relu'))\n",
    "\n",
    "## output layer\n",
    "## binary output, units = 1 .. if catagorical (eg A, B or C) units = 3 \n",
    "## activation func = sigmoid (give probalility)\n",
    "ann.add(tf.keras.layers.Dense(units=1, activation='sigmoid'))\n"
   ]
  },
  {
   "cell_type": "markdown",
   "metadata": {},
   "source": [
    "### Compiling ANN"
   ]
  },
  {
   "cell_type": "code",
   "execution_count": 52,
   "metadata": {},
   "outputs": [],
   "source": [
    "#optimizer : updates weights\n",
    "#loss = for binary = binary_crossentropy, for nonbinary = catagorical_corssentropy\n",
    "\n",
    "ann.compile(optimizer= 'adam' , loss= 'binary_crossentropy' , metrics= ['accuracy'])"
   ]
  },
  {
   "cell_type": "markdown",
   "metadata": {},
   "source": [
    "### Training ANN"
   ]
  },
  {
   "cell_type": "code",
   "execution_count": 53,
   "metadata": {},
   "outputs": [
    {
     "name": "stdout",
     "output_type": "stream",
     "text": [
      "Epoch 1/100\n",
      "250/250 [==============================] - 0s 673us/step - loss: 0.5399 - accuracy: 0.7365\n",
      "Epoch 2/100\n",
      "250/250 [==============================] - 0s 728us/step - loss: 0.4582 - accuracy: 0.8020\n",
      "Epoch 3/100\n",
      "250/250 [==============================] - 0s 703us/step - loss: 0.4333 - accuracy: 0.8170\n",
      "Epoch 4/100\n",
      "250/250 [==============================] - 0s 678us/step - loss: 0.4179 - accuracy: 0.8255\n",
      "Epoch 5/100\n",
      "250/250 [==============================] - 0s 665us/step - loss: 0.4086 - accuracy: 0.8261\n",
      "Epoch 6/100\n",
      "250/250 [==============================] - 0s 752us/step - loss: 0.4016 - accuracy: 0.8291\n",
      "Epoch 7/100\n",
      "250/250 [==============================] - 0s 797us/step - loss: 0.3946 - accuracy: 0.8344\n",
      "Epoch 8/100\n",
      "250/250 [==============================] - 0s 860us/step - loss: 0.3874 - accuracy: 0.8384\n",
      "Epoch 9/100\n",
      "250/250 [==============================] - 0s 860us/step - loss: 0.3795 - accuracy: 0.8465\n",
      "Epoch 10/100\n",
      "250/250 [==============================] - 0s 721us/step - loss: 0.3708 - accuracy: 0.8501\n",
      "Epoch 11/100\n",
      "250/250 [==============================] - 0s 676us/step - loss: 0.3635 - accuracy: 0.8525\n",
      "Epoch 12/100\n",
      "250/250 [==============================] - 0s 671us/step - loss: 0.3566 - accuracy: 0.8541\n",
      "Epoch 13/100\n",
      "250/250 [==============================] - 0s 698us/step - loss: 0.3516 - accuracy: 0.8569\n",
      "Epoch 14/100\n",
      "250/250 [==============================] - 0s 676us/step - loss: 0.3475 - accuracy: 0.8601\n",
      "Epoch 15/100\n",
      "250/250 [==============================] - 0s 674us/step - loss: 0.3450 - accuracy: 0.8590\n",
      "Epoch 16/100\n",
      "250/250 [==============================] - 0s 677us/step - loss: 0.3433 - accuracy: 0.8586\n",
      "Epoch 17/100\n",
      "250/250 [==============================] - 0s 676us/step - loss: 0.3416 - accuracy: 0.8614\n",
      "Epoch 18/100\n",
      "250/250 [==============================] - 0s 733us/step - loss: 0.3404 - accuracy: 0.8618\n",
      "Epoch 19/100\n",
      "250/250 [==============================] - 0s 731us/step - loss: 0.3398 - accuracy: 0.8605\n",
      "Epoch 20/100\n",
      "250/250 [==============================] - 0s 707us/step - loss: 0.3393 - accuracy: 0.8608\n",
      "Epoch 21/100\n",
      "250/250 [==============================] - 0s 721us/step - loss: 0.3383 - accuracy: 0.8609\n",
      "Epoch 22/100\n",
      "250/250 [==============================] - 0s 728us/step - loss: 0.3382 - accuracy: 0.8606\n",
      "Epoch 23/100\n",
      "250/250 [==============================] - 0s 719us/step - loss: 0.3376 - accuracy: 0.8612\n",
      "Epoch 24/100\n",
      "250/250 [==============================] - 0s 782us/step - loss: 0.3372 - accuracy: 0.8616\n",
      "Epoch 25/100\n",
      "250/250 [==============================] - 0s 811us/step - loss: 0.3362 - accuracy: 0.8611\n",
      "Epoch 26/100\n",
      "250/250 [==============================] - 0s 854us/step - loss: 0.3361 - accuracy: 0.8625\n",
      "Epoch 27/100\n",
      "250/250 [==============================] - 0s 743us/step - loss: 0.3358 - accuracy: 0.8622\n",
      "Epoch 28/100\n",
      "250/250 [==============================] - 0s 684us/step - loss: 0.3353 - accuracy: 0.8634\n",
      "Epoch 29/100\n",
      "250/250 [==============================] - 0s 667us/step - loss: 0.3353 - accuracy: 0.8626\n",
      "Epoch 30/100\n",
      "250/250 [==============================] - 0s 663us/step - loss: 0.3346 - accuracy: 0.8626\n",
      "Epoch 31/100\n",
      "250/250 [==============================] - 0s 728us/step - loss: 0.3348 - accuracy: 0.8625\n",
      "Epoch 32/100\n",
      "250/250 [==============================] - 0s 779us/step - loss: 0.3345 - accuracy: 0.8619\n",
      "Epoch 33/100\n",
      "250/250 [==============================] - 0s 791us/step - loss: 0.3340 - accuracy: 0.8625\n",
      "Epoch 34/100\n",
      "250/250 [==============================] - 0s 791us/step - loss: 0.3341 - accuracy: 0.8616\n",
      "Epoch 35/100\n",
      "250/250 [==============================] - 0s 795us/step - loss: 0.3336 - accuracy: 0.8615\n",
      "Epoch 36/100\n",
      "250/250 [==============================] - 0s 779us/step - loss: 0.3336 - accuracy: 0.8629\n",
      "Epoch 37/100\n",
      "250/250 [==============================] - 0s 794us/step - loss: 0.3333 - accuracy: 0.8627\n",
      "Epoch 38/100\n",
      "250/250 [==============================] - 0s 779us/step - loss: 0.3332 - accuracy: 0.8631\n",
      "Epoch 39/100\n",
      "250/250 [==============================] - 0s 792us/step - loss: 0.3331 - accuracy: 0.8624\n",
      "Epoch 40/100\n",
      "250/250 [==============================] - 0s 717us/step - loss: 0.3331 - accuracy: 0.8620\n",
      "Epoch 41/100\n",
      "250/250 [==============================] - 0s 685us/step - loss: 0.3325 - accuracy: 0.8620\n",
      "Epoch 42/100\n",
      "250/250 [==============================] - 0s 775us/step - loss: 0.3327 - accuracy: 0.8634\n",
      "Epoch 43/100\n",
      "250/250 [==============================] - 0s 809us/step - loss: 0.3324 - accuracy: 0.8621\n",
      "Epoch 44/100\n",
      "250/250 [==============================] - 0s 849us/step - loss: 0.3324 - accuracy: 0.8622\n",
      "Epoch 45/100\n",
      "250/250 [==============================] - 0s 847us/step - loss: 0.3320 - accuracy: 0.8627\n",
      "Epoch 46/100\n",
      "250/250 [==============================] - 0s 856us/step - loss: 0.3321 - accuracy: 0.8631\n",
      "Epoch 47/100\n",
      "250/250 [==============================] - 0s 862us/step - loss: 0.3317 - accuracy: 0.8637\n",
      "Epoch 48/100\n",
      "250/250 [==============================] - 0s 856us/step - loss: 0.3315 - accuracy: 0.8622\n",
      "Epoch 49/100\n",
      "250/250 [==============================] - 0s 853us/step - loss: 0.3316 - accuracy: 0.8627\n",
      "Epoch 50/100\n",
      "250/250 [==============================] - 0s 853us/step - loss: 0.3313 - accuracy: 0.8631\n",
      "Epoch 51/100\n",
      "250/250 [==============================] - 0s 873us/step - loss: 0.3314 - accuracy: 0.8634\n",
      "Epoch 52/100\n",
      "250/250 [==============================] - 0s 827us/step - loss: 0.3308 - accuracy: 0.8635\n",
      "Epoch 53/100\n",
      "250/250 [==============================] - 0s 769us/step - loss: 0.3308 - accuracy: 0.8634\n",
      "Epoch 54/100\n",
      "250/250 [==============================] - 0s 759us/step - loss: 0.3312 - accuracy: 0.8634\n",
      "Epoch 55/100\n",
      "250/250 [==============================] - 0s 797us/step - loss: 0.3311 - accuracy: 0.8631\n",
      "Epoch 56/100\n",
      "250/250 [==============================] - 0s 825us/step - loss: 0.3306 - accuracy: 0.8639\n",
      "Epoch 57/100\n",
      "250/250 [==============================] - 0s 818us/step - loss: 0.3307 - accuracy: 0.8654\n",
      "Epoch 58/100\n",
      "250/250 [==============================] - 0s 819us/step - loss: 0.3302 - accuracy: 0.8652\n",
      "Epoch 59/100\n",
      "250/250 [==============================] - 0s 821us/step - loss: 0.3301 - accuracy: 0.8636\n",
      "Epoch 60/100\n",
      "250/250 [==============================] - 0s 775us/step - loss: 0.3304 - accuracy: 0.8626\n",
      "Epoch 61/100\n",
      "250/250 [==============================] - 0s 695us/step - loss: 0.3303 - accuracy: 0.8636\n",
      "Epoch 62/100\n",
      "250/250 [==============================] - 0s 687us/step - loss: 0.3302 - accuracy: 0.8631\n",
      "Epoch 63/100\n",
      "250/250 [==============================] - 0s 664us/step - loss: 0.3303 - accuracy: 0.8637\n",
      "Epoch 64/100\n",
      "250/250 [==============================] - 0s 764us/step - loss: 0.3301 - accuracy: 0.8654\n",
      "Epoch 65/100\n",
      "250/250 [==============================] - 0s 782us/step - loss: 0.3298 - accuracy: 0.8656\n",
      "Epoch 66/100\n",
      "250/250 [==============================] - 0s 778us/step - loss: 0.3297 - accuracy: 0.8643\n",
      "Epoch 67/100\n",
      "250/250 [==============================] - 0s 798us/step - loss: 0.3293 - accuracy: 0.8637\n",
      "Epoch 68/100\n",
      "250/250 [==============================] - 0s 852us/step - loss: 0.3295 - accuracy: 0.8635\n",
      "Epoch 69/100\n",
      "250/250 [==============================] - 0s 844us/step - loss: 0.3297 - accuracy: 0.8655\n",
      "Epoch 70/100\n",
      "250/250 [==============================] - 0s 855us/step - loss: 0.3293 - accuracy: 0.8633\n",
      "Epoch 71/100\n",
      "250/250 [==============================] - 0s 850us/step - loss: 0.3295 - accuracy: 0.8634\n",
      "Epoch 72/100\n",
      "250/250 [==============================] - 0s 854us/step - loss: 0.3290 - accuracy: 0.8648\n",
      "Epoch 73/100\n",
      "250/250 [==============================] - 0s 854us/step - loss: 0.3288 - accuracy: 0.8651\n",
      "Epoch 74/100\n",
      "250/250 [==============================] - 0s 843us/step - loss: 0.3291 - accuracy: 0.8655\n",
      "Epoch 75/100\n",
      "250/250 [==============================] - 0s 846us/step - loss: 0.3288 - accuracy: 0.8650\n",
      "Epoch 76/100\n",
      "250/250 [==============================] - 0s 861us/step - loss: 0.3284 - accuracy: 0.8650\n",
      "Epoch 77/100\n",
      "250/250 [==============================] - 0s 776us/step - loss: 0.3287 - accuracy: 0.8662\n",
      "Epoch 78/100\n",
      "250/250 [==============================] - 0s 754us/step - loss: 0.3284 - accuracy: 0.8649\n",
      "Epoch 79/100\n",
      "250/250 [==============================] - 0s 764us/step - loss: 0.3287 - accuracy: 0.8643\n",
      "Epoch 80/100\n",
      "250/250 [==============================] - 0s 835us/step - loss: 0.3289 - accuracy: 0.8659\n",
      "Epoch 81/100\n",
      "250/250 [==============================] - 0s 661us/step - loss: 0.3289 - accuracy: 0.8646\n",
      "Epoch 82/100\n",
      "250/250 [==============================] - 0s 704us/step - loss: 0.3286 - accuracy: 0.8649\n",
      "Epoch 83/100\n",
      "250/250 [==============================] - 0s 803us/step - loss: 0.3286 - accuracy: 0.8664\n",
      "Epoch 84/100\n",
      "250/250 [==============================] - 0s 778us/step - loss: 0.3274 - accuracy: 0.8652\n",
      "Epoch 85/100\n",
      "250/250 [==============================] - 0s 788us/step - loss: 0.3281 - accuracy: 0.8645\n",
      "Epoch 86/100\n",
      "250/250 [==============================] - 0s 785us/step - loss: 0.3281 - accuracy: 0.8655\n",
      "Epoch 87/100\n",
      "250/250 [==============================] - 0s 893us/step - loss: 0.3278 - accuracy: 0.8649\n",
      "Epoch 88/100\n",
      "250/250 [==============================] - 0s 701us/step - loss: 0.3283 - accuracy: 0.8651\n",
      "Epoch 89/100\n",
      "250/250 [==============================] - 0s 841us/step - loss: 0.3277 - accuracy: 0.8659\n",
      "Epoch 90/100\n",
      "250/250 [==============================] - 0s 834us/step - loss: 0.3280 - accuracy: 0.8656\n",
      "Epoch 91/100\n",
      "250/250 [==============================] - 0s 843us/step - loss: 0.3278 - accuracy: 0.8666\n",
      "Epoch 92/100\n",
      "250/250 [==============================] - 0s 837us/step - loss: 0.3279 - accuracy: 0.8665\n",
      "Epoch 93/100\n",
      "250/250 [==============================] - 0s 841us/step - loss: 0.3280 - accuracy: 0.8656\n",
      "Epoch 94/100\n",
      "250/250 [==============================] - 0s 836us/step - loss: 0.3279 - accuracy: 0.8641\n",
      "Epoch 95/100\n",
      "250/250 [==============================] - 0s 719us/step - loss: 0.3277 - accuracy: 0.8645\n",
      "Epoch 96/100\n",
      "250/250 [==============================] - 0s 668us/step - loss: 0.3278 - accuracy: 0.8655\n",
      "Epoch 97/100\n",
      "250/250 [==============================] - 0s 687us/step - loss: 0.3277 - accuracy: 0.8664\n",
      "Epoch 98/100\n",
      "250/250 [==============================] - 0s 733us/step - loss: 0.3273 - accuracy: 0.8665\n",
      "Epoch 99/100\n",
      "250/250 [==============================] - 0s 782us/step - loss: 0.3276 - accuracy: 0.8661\n",
      "Epoch 100/100\n",
      "250/250 [==============================] - 0s 793us/step - loss: 0.3275 - accuracy: 0.8659\n"
     ]
    },
    {
     "data": {
      "text/plain": [
       "<keras.callbacks.History at 0x7f7404046ca0>"
      ]
     },
     "execution_count": 53,
     "metadata": {},
     "output_type": "execute_result"
    }
   ],
   "source": [
    "ann.fit(X_train,y_train,batch_size= 32, epochs = 100 )\n",
    "\n",
    "### \"An epoch means training the neural network with all the training data for one cycle\"\n"
   ]
  },
  {
   "cell_type": "code",
   "execution_count": 54,
   "metadata": {},
   "outputs": [
    {
     "name": "stdout",
     "output_type": "stream",
     "text": [
      "[[False]]\n"
     ]
    }
   ],
   "source": [
    "## input for predict must be a 2d array -- [[]]\n",
    "## remember scaling\n",
    "print(ann.predict(sc.transform([[1.0,0.0, 0.0, 600, 1, 40, 3,60000,2,1,1,50000]]) )> 0.5)"
   ]
  },
  {
   "cell_type": "markdown",
   "metadata": {},
   "source": [
    "### Predict test set"
   ]
  },
  {
   "cell_type": "code",
   "execution_count": 55,
   "metadata": {},
   "outputs": [
    {
     "name": "stdout",
     "output_type": "stream",
     "text": [
      "[[0 0]\n",
      " [0 1]\n",
      " [0 0]\n",
      " ...\n",
      " [0 0]\n",
      " [0 0]\n",
      " [0 0]]\n"
     ]
    }
   ],
   "source": [
    "y_pred = ann.predict(X_test)\n",
    "y_pred = (y_pred > 0.5)\n",
    "\n",
    "print(np.concatenate((y_pred.reshape(len(y_pred),1), y_test.reshape(len(y_pred),1)),1))"
   ]
  },
  {
   "cell_type": "markdown",
   "metadata": {},
   "source": [
    "### Confusion matrix"
   ]
  },
  {
   "cell_type": "code",
   "execution_count": 57,
   "metadata": {},
   "outputs": [
    {
     "name": "stdout",
     "output_type": "stream",
     "text": [
      "[[1501   94]\n",
      " [ 192  213]]\n"
     ]
    },
    {
     "data": {
      "text/plain": [
       "0.857"
      ]
     },
     "execution_count": 57,
     "metadata": {},
     "output_type": "execute_result"
    }
   ],
   "source": [
    "from sklearn.metrics import confusion_matrix, accuracy_score\n",
    "cm = confusion_matrix(y_test,y_pred)\n",
    "print(cm)\n",
    "\n",
    "accuracy_score(y_test,y_pred)"
   ]
  },
  {
   "cell_type": "code",
   "execution_count": null,
   "metadata": {},
   "outputs": [],
   "source": []
  },
  {
   "cell_type": "code",
   "execution_count": null,
   "metadata": {},
   "outputs": [],
   "source": []
  },
  {
   "cell_type": "code",
   "execution_count": null,
   "metadata": {},
   "outputs": [],
   "source": []
  }
 ],
 "metadata": {
  "kernelspec": {
   "display_name": "Python 3",
   "language": "python",
   "name": "python3"
  },
  "language_info": {
   "codemirror_mode": {
    "name": "ipython",
    "version": 3
   },
   "file_extension": ".py",
   "mimetype": "text/x-python",
   "name": "python",
   "nbconvert_exporter": "python",
   "pygments_lexer": "ipython3",
   "version": "3.8.5"
  }
 },
 "nbformat": 4,
 "nbformat_minor": 4
}
